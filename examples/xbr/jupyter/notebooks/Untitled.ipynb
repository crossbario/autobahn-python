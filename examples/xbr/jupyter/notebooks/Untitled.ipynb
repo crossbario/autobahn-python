{
 "cells": [
  {
   "cell_type": "code",
   "execution_count": null,
   "metadata": {},
   "outputs": [],
   "source": [
    "DBPATH = '../../crossbar/.xbrdb-transactions'\n",
    "\n",
    "import os\n",
    "\n",
    "print(os.listdir(DBPATH))"
   ]
  },
  {
   "cell_type": "code",
   "execution_count": null,
   "metadata": {},
   "outputs": [],
   "source": [
    "import zlmdb\n",
    "from cfxdb.xbr import Schema\n",
    "\n",
    "db = zlmdb.Database(DBPATH, maxsize=2**30, readonly=False)\n",
    "\n",
    "schema = Schema.attach(db)\n",
    "\n",
    "print(schema.token_transfers)\n",
    "print(schema.payment_channels)"
   ]
  },
  {
   "cell_type": "code",
   "execution_count": null,
   "metadata": {},
   "outputs": [],
   "source": [
    "from binascii import b2a_hex\n",
    "\n",
    "with db.begin() as txn:\n",
    "    for token_transfer in schema.token_transfers.select(txn, return_values=True, return_keys=False, limit=20):\n",
    "        print(b2a_hex(token_transfer.from_address), b2a_hex(token_transfer.to_address))"
   ]
  },
  {
   "cell_type": "markdown",
   "metadata": {},
   "source": [
    "# Counting"
   ]
  },
  {
   "cell_type": "markdown",
   "metadata": {},
   "source": [
    "Here is how you count all XBR token transfers:"
   ]
  },
  {
   "cell_type": "code",
   "execution_count": null,
   "metadata": {},
   "outputs": [],
   "source": [
    "with db.begin() as txn:\n",
    "    cnt = schema.token_transfers.count(txn)\n",
    "\n",
    "print('total token transfers:', cnt)"
   ]
  },
  {
   "cell_type": "markdown",
   "metadata": {},
   "source": [
    "The database is updated by CrossbarFX as it is watching the blockchain and insert new records into the database as they arrive:"
   ]
  },
  {
   "cell_type": "code",
   "execution_count": null,
   "metadata": {},
   "outputs": [],
   "source": [
    "import time\n",
    "\n",
    "t = 10\n",
    "while t > 0:\n",
    "    with db.begin() as txn:\n",
    "        cnt = schema.token_transfers.count(txn)\n",
    "    print('total token transfers:', cnt)\n",
    "    time.sleep(1)\n",
    "    t -= 1"
   ]
  },
  {
   "cell_type": "markdown",
   "metadata": {},
   "source": [
    "# Payment Channels\n",
    "\n",
    "Here is how to access payment channels stored and operated on within a XBR market maker:"
   ]
  },
  {
   "cell_type": "code",
   "execution_count": null,
   "metadata": {},
   "outputs": [],
   "source": [
    "with db.begin() as txn:\n",
    "    for channel in schema.payment_channels.select(txn, return_values=True, return_keys=False, limit=20):\n",
    "        print('consumer={}.. delegate={}.. amount={} state={}'.format(\n",
    "            channel.sender.hex()[:8], channel.delegate.hex()[:8], channel.amount, channel.state))"
   ]
  },
  {
   "cell_type": "code",
   "execution_count": null,
   "metadata": {},
   "outputs": [],
   "source": []
  }
 ],
 "metadata": {
  "kernelspec": {
   "display_name": "Python 3",
   "language": "python",
   "name": "python3"
  },
  "language_info": {
   "codemirror_mode": {
    "name": "ipython",
    "version": 3
   },
   "file_extension": ".py",
   "mimetype": "text/x-python",
   "name": "python",
   "nbconvert_exporter": "python",
   "pygments_lexer": "ipython3",
   "version": "3.7.1"
  }
 },
 "nbformat": 4,
 "nbformat_minor": 2
}
